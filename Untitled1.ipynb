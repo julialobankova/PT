{
 "cells": [
  {
   "cell_type": "code",
   "execution_count": 34,
   "id": "60c8df71",
   "metadata": {},
   "outputs": [],
   "source": [
    "import numpy as np\n",
    "from math import factorial as f"
   ]
  },
  {
   "cell_type": "markdown",
   "id": "2093aaf5",
   "metadata": {},
   "source": [
    "Формула сочетания:"
   ]
  },
  {
   "cell_type": "code",
   "execution_count": 35,
   "id": "49d1f6bf",
   "metadata": {},
   "outputs": [],
   "source": [
    "def combination(n,k):\n",
    "    return f(n) / (f(k) * f(n-k))"
   ]
  },
  {
   "cell_type": "markdown",
   "id": "8dcdcc83",
   "metadata": {},
   "source": [
    "Биномиальное распредление, формула Бернулли:"
   ]
  },
  {
   "cell_type": "code",
   "execution_count": 36,
   "id": "2ca10fbf",
   "metadata": {},
   "outputs": [],
   "source": [
    "def bernoulli(p, n, k):\n",
    "    return combination(n,k) * p**(k) * (1 - p)**(n - k)"
   ]
  },
  {
   "cell_type": "markdown",
   "id": "7de2575b",
   "metadata": {},
   "source": [
    "Распределение Пуассона:"
   ]
  },
  {
   "cell_type": "code",
   "execution_count": 37,
   "id": "45eac379",
   "metadata": {},
   "outputs": [],
   "source": [
    "def puasson(m,n,p):\n",
    "    l=p*n\n",
    "    return l**m/f(m)*np.exp(-l)"
   ]
  },
  {
   "cell_type": "markdown",
   "id": "013fe41f",
   "metadata": {},
   "source": [
    "Задача 1.\n",
    "Вероятность того, что стрелок попадет в мишень, выстрелив один раз, равна 0.8. Стрелок выстрелил 100 раз. Найдите вероятность того, что стрелок попадет в цель ровно 85 раз.\n"
   ]
  },
  {
   "cell_type": "markdown",
   "id": "cd1b1b6a",
   "metadata": {},
   "source": [
    "Вычислим с помощью Биномиального распредления"
   ]
  },
  {
   "cell_type": "code",
   "execution_count": 38,
   "id": "38f98b67",
   "metadata": {},
   "outputs": [
    {
     "data": {
      "text/plain": [
       "0.048061793700746355"
      ]
     },
     "execution_count": 38,
     "metadata": {},
     "output_type": "execute_result"
    }
   ],
   "source": [
    "bernoulli(0.8,100,85)"
   ]
  },
  {
   "cell_type": "markdown",
   "id": "c4a71979",
   "metadata": {},
   "source": [
    "Задача 2. Вероятность того, что лампочка перегорит в течение первого дня эксплуатации, равна 0.0004. В жилом комплексе после ремонта в один день включили 5000 новых лампочек. Какова вероятность, что ни одна из них не перегорит в первый день? Какова вероятность, что перегорят ровно две?"
   ]
  },
  {
   "cell_type": "markdown",
   "id": "7d036514",
   "metadata": {},
   "source": [
    "Вычислим с помощью распределения Пуассона:"
   ]
  },
  {
   "cell_type": "markdown",
   "id": "0d7d2640",
   "metadata": {},
   "source": [
    "Вероятность, что ни одна из них не перегорит в первый день:"
   ]
  },
  {
   "cell_type": "code",
   "execution_count": 39,
   "id": "2ac08dae",
   "metadata": {},
   "outputs": [
    {
     "data": {
      "text/plain": [
       "0.1353352832366127"
      ]
     },
     "execution_count": 39,
     "metadata": {},
     "output_type": "execute_result"
    }
   ],
   "source": [
    "puasson(0,5000,0.0004)"
   ]
  },
  {
   "cell_type": "markdown",
   "id": "c48aecfb",
   "metadata": {},
   "source": [
    "Вероятность, что перегорят ровно две:\n",
    "    "
   ]
  },
  {
   "cell_type": "code",
   "execution_count": 40,
   "id": "7dab7c8d",
   "metadata": {},
   "outputs": [
    {
     "data": {
      "text/plain": [
       "0.2706705664732254"
      ]
     },
     "execution_count": 40,
     "metadata": {},
     "output_type": "execute_result"
    }
   ],
   "source": [
    "puasson(2,5000,0.0004)"
   ]
  },
  {
   "cell_type": "markdown",
   "id": "207ceb8a",
   "metadata": {},
   "source": [
    "Монету подбросили 144 раза. Какова вероятность, что орел выпадет ровно 70 раз?"
   ]
  },
  {
   "cell_type": "code",
   "execution_count": 42,
   "id": "f9e6699b",
   "metadata": {
    "scrolled": false
   },
   "outputs": [
    {
     "data": {
      "text/plain": [
       "0.06281178035144776"
      ]
     },
     "execution_count": 42,
     "metadata": {},
     "output_type": "execute_result"
    }
   ],
   "source": [
    "bernoulli(0.5, 144, 70)"
   ]
  },
  {
   "cell_type": "markdown",
   "id": "c1d60d9a",
   "metadata": {},
   "source": [
    "В первом ящике находится 10 мячей, из которых 7 - белые. Во втором ящике - 11 мячей, из которых 9 белых. Из каждого ящика вытаскивают случайным образом по два мяча. Какова вероятность того, что все мячи белые? Какова вероятность того, что ровно два мяча белые? Какова вероятность того, что хотя бы один мяч белый?"
   ]
  },
  {
   "cell_type": "markdown",
   "id": "e16c3b3a",
   "metadata": {},
   "source": [
    "Какова вероятность того, что все мячи белые:\n",
    "    "
   ]
  },
  {
   "cell_type": "code",
   "execution_count": 48,
   "id": "7b073984",
   "metadata": {},
   "outputs": [
    {
     "data": {
      "text/plain": [
       "0.3054545454545454"
      ]
     },
     "execution_count": 48,
     "metadata": {},
     "output_type": "execute_result"
    }
   ],
   "source": [
    "P = 7/10*6/9*9/11*8/10\n",
    "P"
   ]
  },
  {
   "cell_type": "markdown",
   "id": "b73379f3",
   "metadata": {},
   "source": [
    "Какова вероятность того, что ровно два мяча белые?"
   ]
  },
  {
   "cell_type": "markdown",
   "id": "98ad32a7",
   "metadata": {},
   "source": [
    "Есть шесть возможных событий\n"
   ]
  },
  {
   "cell_type": "code",
   "execution_count": 50,
   "id": "c587a408",
   "metadata": {},
   "outputs": [
    {
     "data": {
      "text/plain": [
       "0.20484848484848484"
      ]
     },
     "execution_count": 50,
     "metadata": {},
     "output_type": "execute_result"
    }
   ],
   "source": [
    "P = (7/10)*(6/9)*(2/11)*(1/10) + (7/10)*(3/9)*(9/11)*(2/10) + (7/10)*(3/9)*(2/11)*(9/10) + \\\n",
    "(3/10)*(7/9)*(9/11)*(2/10) + (3/10)*(7/9)*(2/11)*(9/10) + (3/10)*(2/9)*(9/11)*(8/10)\n",
    "P"
   ]
  },
  {
   "cell_type": "markdown",
   "id": "f4837ed1",
   "metadata": {},
   "source": [
    "Какова вероятность того, что хотя бы один мяч белый?\n"
   ]
  },
  {
   "cell_type": "markdown",
   "id": "917af7af",
   "metadata": {},
   "source": [
    "Найдем верятность того, что все мячи черные:"
   ]
  },
  {
   "cell_type": "code",
   "execution_count": 55,
   "id": "2be59ab1",
   "metadata": {},
   "outputs": [],
   "source": [
    "P1 = 3/10*2/9*2/11*1/10"
   ]
  },
  {
   "cell_type": "markdown",
   "id": "9e57c9b4",
   "metadata": {},
   "source": [
    "Вероятность того, что хотя бы один мяч белый:\n"
   ]
  },
  {
   "cell_type": "code",
   "execution_count": 57,
   "id": "d03c3e4c",
   "metadata": {},
   "outputs": [
    {
     "data": {
      "text/plain": [
       "0.9987878787878788"
      ]
     },
     "execution_count": 57,
     "metadata": {},
     "output_type": "execute_result"
    }
   ],
   "source": [
    "P2 = 1 - P1\n",
    "P2"
   ]
  }
 ],
 "metadata": {
  "kernelspec": {
   "display_name": "Python 3 (ipykernel)",
   "language": "python",
   "name": "python3"
  },
  "language_info": {
   "codemirror_mode": {
    "name": "ipython",
    "version": 3
   },
   "file_extension": ".py",
   "mimetype": "text/x-python",
   "name": "python",
   "nbconvert_exporter": "python",
   "pygments_lexer": "ipython3",
   "version": "3.9.13"
  }
 },
 "nbformat": 4,
 "nbformat_minor": 5
}
