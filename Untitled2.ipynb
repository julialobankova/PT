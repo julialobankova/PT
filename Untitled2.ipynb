{
 "cells": [
  {
   "cell_type": "code",
   "execution_count": 4,
   "id": "60e87e89",
   "metadata": {},
   "outputs": [],
   "source": [
    "import pandas as pd\n",
    "import numpy as np\n",
    "import scipy.stats as stats\n",
    "import matplotlib.pyplot as plt\n",
    "from sklearn.linear_model import LinearRegression"
   ]
  },
  {
   "cell_type": "markdown",
   "id": "06317590",
   "metadata": {},
   "source": [
    "Провести дисперсионный анализ для определения того, есть ли различия среднего роста среди взрослых футболистов, хоккеистов и штангистов.\n",
    "Даны значения роста в трех группах случайно выбранных спортсменов:\n",
    "Футболисты: 173, 175, 180, 178, 177, 185, 183, 182.\n",
    "Хоккеисты: 177, 179, 180, 188, 177, 172, 171, 184, 180.\n",
    "Штангисты: 172, 173, 169, 177, 166, 180, 178, 177, 172, 166, 170."
   ]
  },
  {
   "cell_type": "markdown",
   "id": "fe0d8a16",
   "metadata": {},
   "source": [
    "Внесем все данные о выборках:"
   ]
  },
  {
   "cell_type": "markdown",
   "id": "3d6818e5",
   "metadata": {},
   "source": [
    "n1 = 8\n",
    "n2 = 9\n",
    "n3 = 11\n",
    "n = n1 + n2 + n3 = 28 - Количество значений всего\n",
    "\n",
    "k = 3 - Три группы"
   ]
  },
  {
   "cell_type": "code",
   "execution_count": 16,
   "id": "52622b60",
   "metadata": {},
   "outputs": [],
   "source": [
    "n1 = 8\n",
    "n2 = 9\n",
    "n3 = 11\n",
    "n = n1 + n2 + n3\n",
    "k = 3\n",
    "y1 = np.array([173, 175, 180, 178, 177, 185, 183, 182], dtype=np.float64)\n",
    "y2 = np.array([177, 179, 180, 188, 177, 172, 171, 184, 180], dtype=np.float64)\n",
    "y3 = np.array([172, 173, 169, 177, 166, 180, 178,\n",
    "              177, 172, 166, 170], dtype=np.float64)"
   ]
  },
  {
   "cell_type": "markdown",
   "id": "55bcd574",
   "metadata": {},
   "source": [
    "Для начала необходимо найти средний рост для каждой профессии:"
   ]
  },
  {
   "cell_type": "code",
   "execution_count": 12,
   "id": "3a38aad5",
   "metadata": {},
   "outputs": [],
   "source": [
    "y1_mean = np.mean(y1)\n",
    "y2_mean = np.mean(y2)\n",
    "y3_mean = np.mean(y3)"
   ]
  },
  {
   "cell_type": "code",
   "execution_count": 9,
   "id": "10e2a4f5",
   "metadata": {},
   "outputs": [
    {
     "data": {
      "text/plain": [
       "179.125"
      ]
     },
     "execution_count": 9,
     "metadata": {},
     "output_type": "execute_result"
    }
   ],
   "source": [
    "y1_mean"
   ]
  },
  {
   "cell_type": "code",
   "execution_count": 10,
   "id": "008d6ae2",
   "metadata": {},
   "outputs": [
    {
     "data": {
      "text/plain": [
       "178.66666666666666"
      ]
     },
     "execution_count": 10,
     "metadata": {},
     "output_type": "execute_result"
    }
   ],
   "source": [
    "y2_mean"
   ]
  },
  {
   "cell_type": "code",
   "execution_count": 11,
   "id": "2f7e13fe",
   "metadata": {},
   "outputs": [
    {
     "data": {
      "text/plain": [
       "172.72727272727272"
      ]
     },
     "execution_count": 11,
     "metadata": {},
     "output_type": "execute_result"
    }
   ],
   "source": [
    "y3_mean"
   ]
  },
  {
   "cell_type": "markdown",
   "id": "010c994f",
   "metadata": {},
   "source": [
    "Соберем все данные в один массив:"
   ]
  },
  {
   "cell_type": "code",
   "execution_count": 15,
   "id": "519c551c",
   "metadata": {},
   "outputs": [
    {
     "data": {
      "text/plain": [
       "array([173., 175., 180., 178., 177., 185., 183., 182., 177., 179., 180.,\n",
       "       188., 177., 172., 171., 184., 180., 172., 173., 169., 177., 166.,\n",
       "       180., 178., 177., 172., 166., 170.])"
      ]
     },
     "execution_count": 15,
     "metadata": {},
     "output_type": "execute_result"
    }
   ],
   "source": [
    "y_all = np.concatenate([y1, y2, y3])\n",
    "y_all"
   ]
  },
  {
   "cell_type": "markdown",
   "id": "e1d6f681",
   "metadata": {},
   "source": [
    "Проведем последовательно все операции регрессионного анализа:"
   ]
  },
  {
   "cell_type": "markdown",
   "id": "7079ad6c",
   "metadata": {},
   "source": [
    "Среднее по всем спортсменам:"
   ]
  },
  {
   "cell_type": "code",
   "execution_count": 20,
   "id": "f82b5ac2",
   "metadata": {},
   "outputs": [
    {
     "data": {
      "text/plain": [
       "176.46428571428572"
      ]
     },
     "execution_count": 20,
     "metadata": {},
     "output_type": "execute_result"
    }
   ],
   "source": [
    "y_mean = np.mean(y_all) \n",
    "y_mean"
   ]
  },
  {
   "cell_type": "markdown",
   "id": "1dbe1d79",
   "metadata": {},
   "source": [
    "Cумма квадратов отклонений наблюдений от общего среднего:"
   ]
  },
  {
   "cell_type": "code",
   "execution_count": 19,
   "id": "05654f44",
   "metadata": {},
   "outputs": [
    {
     "data": {
      "text/plain": [
       "830.9642857142854"
      ]
     },
     "execution_count": 19,
     "metadata": {},
     "output_type": "execute_result"
    }
   ],
   "source": [
    "s2 = np.sum((y_all - y_mean)**2)\n",
    "s2"
   ]
  },
  {
   "cell_type": "markdown",
   "id": "5f4ad250",
   "metadata": {},
   "source": [
    "Cумма квадратов отклонений средних групповых значений от общего среднего:"
   ]
  },
  {
   "cell_type": "code",
   "execution_count": 21,
   "id": "cac21d12",
   "metadata": {},
   "outputs": [
    {
     "data": {
      "text/plain": [
       "253.9074675324678"
      ]
     },
     "execution_count": 21,
     "metadata": {},
     "output_type": "execute_result"
    }
   ],
   "source": [
    "s2_f = ((y1_mean - y_mean)**2) * n1 + ((y2_mean - y_mean)**2) * \\\n",
    "    n2 + ((y3_mean - y_mean)**2) * n3\n",
    "s2_f"
   ]
  },
  {
   "cell_type": "markdown",
   "id": "a56bbac6",
   "metadata": {},
   "source": [
    "Остаточная сумма квадратов отклонений:"
   ]
  },
  {
   "cell_type": "code",
   "execution_count": 23,
   "id": "7d11e99e",
   "metadata": {},
   "outputs": [
    {
     "data": {
      "text/plain": [
       "577.0568181818182"
      ]
     },
     "execution_count": 23,
     "metadata": {},
     "output_type": "execute_result"
    }
   ],
   "source": [
    "s2_residual = np.sum((y1 - y1_mean)**2) + \\\n",
    "    np.sum((y2 - y2_mean)**2) + np.sum((y3 - y3_mean)**2)\n",
    "s2_residual"
   ]
  },
  {
   "cell_type": "markdown",
   "id": "8af07708",
   "metadata": {},
   "source": [
    "Проверка на равенство остаточных:"
   ]
  },
  {
   "cell_type": "code",
   "execution_count": 24,
   "id": "614d8546",
   "metadata": {},
   "outputs": [
    {
     "name": "stdout",
     "output_type": "stream",
     "text": [
      "830.9642857142854\n",
      "830.964285714286\n"
     ]
    }
   ],
   "source": [
    "print(s2)\n",
    "print(s2_f + s2_residual)"
   ]
  },
  {
   "cell_type": "markdown",
   "id": "27837532",
   "metadata": {},
   "source": [
    "Определим сигму генеральной совокупности:"
   ]
  },
  {
   "cell_type": "code",
   "execution_count": 25,
   "id": "d5ea7546",
   "metadata": {},
   "outputs": [
    {
     "data": {
      "text/plain": [
       "5.500053450812598"
      ]
     },
     "execution_count": 25,
     "metadata": {},
     "output_type": "execute_result"
    }
   ],
   "source": [
    "sigma2_general = s2 / (n - 1)\n",
    "sigma2_f = s2_f / (k - 1) # факторная (зависимая) дисперсия\n",
    "sigma2_residual = s2_residual / (n - k) # остаточная дисперсия\n",
    "F_h = sigma2_f / sigma2_residual # критерий Фишера\n"
   ]
  },
  {
   "cell_type": "code",
   "execution_count": 27,
   "id": "5b576fb8",
   "metadata": {},
   "outputs": [
    {
     "data": {
      "text/plain": [
       "30.776455026455015"
      ]
     },
     "execution_count": 27,
     "metadata": {},
     "output_type": "execute_result"
    }
   ],
   "source": [
    "sigma2_general\n"
   ]
  },
  {
   "cell_type": "code",
   "execution_count": 28,
   "id": "6794481c",
   "metadata": {},
   "outputs": [
    {
     "data": {
      "text/plain": [
       "126.9537337662339"
      ]
     },
     "execution_count": 28,
     "metadata": {},
     "output_type": "execute_result"
    }
   ],
   "source": [
    "sigma2_f"
   ]
  },
  {
   "cell_type": "code",
   "execution_count": 29,
   "id": "4e5a6539",
   "metadata": {},
   "outputs": [
    {
     "data": {
      "text/plain": [
       "23.08227272727273"
      ]
     },
     "execution_count": 29,
     "metadata": {},
     "output_type": "execute_result"
    }
   ],
   "source": [
    "sigma2_residual"
   ]
  },
  {
   "cell_type": "code",
   "execution_count": 30,
   "id": "4050a3ef",
   "metadata": {},
   "outputs": [
    {
     "data": {
      "text/plain": [
       "5.500053450812598"
      ]
     },
     "execution_count": 30,
     "metadata": {},
     "output_type": "execute_result"
    }
   ],
   "source": [
    "F_h"
   ]
  },
  {
   "cell_type": "markdown",
   "id": "3979d1e1",
   "metadata": {},
   "source": [
    "Найдем значение критерия Фишера в таблице критических точек распределения Фишера-Снедекора для заданного уровня значимости a = 0.05 и двух степеней свободы:\n",
    "\n",
    "k-1 = 2 и n-k=25 ===> F_cr = 3.3852"
   ]
  },
  {
   "cell_type": "markdown",
   "id": "293db828",
   "metadata": {},
   "source": [
    "Так как критерий рассчетный больше критерия табличного ==> отвергнута гипотеза Н0.\n",
    "\n",
    "Различие роста в трех группах статистически значимо."
   ]
  },
  {
   "cell_type": "code",
   "execution_count": 33,
   "id": "b0ee4022",
   "metadata": {},
   "outputs": [
    {
     "data": {
      "text/plain": [
       "F_onewayResult(statistic=5.500053450812596, pvalue=0.010482206918698694)"
      ]
     },
     "execution_count": 33,
     "metadata": {},
     "output_type": "execute_result"
    }
   ],
   "source": [
    "f = stats.f_oneway(y1, y2, y3)\n",
    "f"
   ]
  }
 ],
 "metadata": {
  "kernelspec": {
   "display_name": "Python 3 (ipykernel)",
   "language": "python",
   "name": "python3"
  },
  "language_info": {
   "codemirror_mode": {
    "name": "ipython",
    "version": 3
   },
   "file_extension": ".py",
   "mimetype": "text/x-python",
   "name": "python",
   "nbconvert_exporter": "python",
   "pygments_lexer": "ipython3",
   "version": "3.9.13"
  }
 },
 "nbformat": 4,
 "nbformat_minor": 5
}
